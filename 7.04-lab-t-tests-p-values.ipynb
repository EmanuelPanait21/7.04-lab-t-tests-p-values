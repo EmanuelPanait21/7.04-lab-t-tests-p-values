{
 "cells": [
  {
   "cell_type": "code",
   "execution_count": 22,
   "id": "8b5915eb",
   "metadata": {},
   "outputs": [],
   "source": [
    "import math\n",
    "import pandas as pd\n",
    "import numpy as np\n",
    "import scipy.stats as stats\n",
    "from scipy.stats import ttest_ind, norm"
   ]
  },
  {
   "cell_type": "markdown",
   "id": "369635cf",
   "metadata": {},
   "source": [
    "1.We will have another simple example on two sample t test (pooled- when the variances are equal). But this time this is a one sided t-test\n",
    "In a packing plant, a machine packs cartons with jars. It is supposed that a new machine will pack faster on the average than the machine currently used. To test that hypothesis, the times it takes each machine to pack ten cartons are recorded. The results, in seconds, are shown in the tables in the file files_for_lab/machine.txt. Assume that there is sufficient evidence to conduct the t test, does the data provide sufficient evidence to show if one machine is better than the other"
   ]
  },
  {
   "cell_type": "code",
   "execution_count": 23,
   "id": "6abdc786",
   "metadata": {},
   "outputs": [],
   "source": [
    "new_machine=[42.1,41,41.3,41.8,42.4,42.8,43.2,42.3,41.8,42.7]\n",
    "old_machine=[42.7,43.6,43.8,43.3,42.5,43.5,43.1,41.7,44,44.1]"
   ]
  },
  {
   "cell_type": "code",
   "execution_count": 24,
   "id": "7cc645aa",
   "metadata": {},
   "outputs": [
    {
     "data": {
      "text/plain": [
       "(10, 42.14, 0.6483826030978941)"
      ]
     },
     "execution_count": 24,
     "metadata": {},
     "output_type": "execute_result"
    }
   ],
   "source": [
    "len(new_machine), np.mean(new_machine), np.std(new_machine)"
   ]
  },
  {
   "cell_type": "code",
   "execution_count": 25,
   "id": "1a78545d",
   "metadata": {},
   "outputs": [
    {
     "data": {
      "text/plain": [
       "(10, 43.230000000000004, 0.7114070564732956)"
      ]
     },
     "execution_count": 25,
     "metadata": {},
     "output_type": "execute_result"
    }
   ],
   "source": [
    "len(old_machine), np.mean(old_machine), np.std(old_machine)"
   ]
  },
  {
   "cell_type": "code",
   "execution_count": 26,
   "id": "f1b301f4",
   "metadata": {},
   "outputs": [
    {
     "data": {
      "text/plain": [
       "Ttest_indResult(statistic=-3.3972307061176026, pvalue=0.0032111425007745158)"
      ]
     },
     "execution_count": 26,
     "metadata": {},
     "output_type": "execute_result"
    }
   ],
   "source": [
    "ttest_ind(new_machine, old_machine)"
   ]
  },
  {
   "cell_type": "raw",
   "id": "bd695f64",
   "metadata": {},
   "source": [
    "# Conclusions: statistic score is negative and based on low p-value\n",
    " we are quite sure the new pack machine is faster than the older."
   ]
  },
  {
   "cell_type": "markdown",
   "id": "8671f530",
   "metadata": {},
   "source": [
    "2.An additional problem (not mandatory): In this case we can't assume that the population variances are equal. Hence in this case we cannot pool the variances. Independent random samples of 17 sophomores and 13 juniors attending a large university yield the following data on grade point averages. Data is provided in the file files_for_lab/student_gpa.txt. At the 5% significance level, do the data provide sufficient evidence to conclude that the mean GPAs of sophomores and juniors at the university differ?\n",
    "Test statistics can be calculated as: link to the image - Test statistics calculation for Unpooled Variance Case\n",
    "Degrees of freedom is (n1-1)+(n2-1)."
   ]
  },
  {
   "cell_type": "code",
   "execution_count": 27,
   "id": "8ff09922",
   "metadata": {},
   "outputs": [],
   "source": [
    "Sophomores = [3.04, 1.71, 3.3, 2.88, 2.11, 2.6, 2.92, 3.6, 3.28, 2.82, 3.03, 3.13, 2.86, 3.49, 3.11, 2.13, 3.27]\n",
    "Juniors = [2.56, 2.77, 2.7, 3, 2.98, 3.47, 3.26, 3.2, 3.19, 2.65, 3, 3.39, 2.58]"
   ]
  },
  {
   "cell_type": "code",
   "execution_count": 28,
   "id": "3388aaab",
   "metadata": {},
   "outputs": [
    {
     "data": {
      "text/plain": [
       "(17, 2.898823529411765, 0.49377158750057437)"
      ]
     },
     "execution_count": 28,
     "metadata": {},
     "output_type": "execute_result"
    }
   ],
   "source": [
    "len(Sophomores), np.mean(Sophomores), np.std(Sophomores)"
   ]
  },
  {
   "cell_type": "code",
   "execution_count": 29,
   "id": "d20b0fbd",
   "metadata": {},
   "outputs": [
    {
     "data": {
      "text/plain": [
       "(13, 2.980769230769231, 0.29712627562812255)"
      ]
     },
     "execution_count": 29,
     "metadata": {},
     "output_type": "execute_result"
    }
   ],
   "source": [
    "len(Juniors), np.mean(Juniors), np.std(Juniors)"
   ]
  },
  {
   "cell_type": "code",
   "execution_count": 30,
   "id": "2260a480",
   "metadata": {},
   "outputs": [
    {
     "data": {
      "text/plain": [
       "Ttest_indResult(statistic=-0.511577634505842, pvalue=0.6129577380525753)"
      ]
     },
     "execution_count": 30,
     "metadata": {},
     "output_type": "execute_result"
    }
   ],
   "source": [
    "ttest_ind(Sophomores, Juniors)"
   ]
  },
  {
   "cell_type": "markdown",
   "id": "c6c3f21b",
   "metadata": {},
   "source": [
    "#because of high p-value there isn't sufficient evidence to reject the null hypothesis(H0)."
   ]
  },
  {
   "cell_type": "markdown",
   "id": "9bb4f0c9",
   "metadata": {},
   "source": [
    "Test statistics:"
   ]
  },
  {
   "cell_type": "code",
   "execution_count": 42,
   "id": "806a7955",
   "metadata": {},
   "outputs": [],
   "source": [
    "n1 = 17\n",
    "x̄1 = 2.90\n",
    "σ1 = 0.49"
   ]
  },
  {
   "cell_type": "code",
   "execution_count": 43,
   "id": "af33acc4",
   "metadata": {},
   "outputs": [],
   "source": [
    "n2 = 13\n",
    "x̄2 = 2.98\n",
    "σ2 = 0.30"
   ]
  },
  {
   "cell_type": "code",
   "execution_count": 44,
   "id": "9fd4b67f",
   "metadata": {},
   "outputs": [],
   "source": [
    "α = 0.05"
   ]
  },
  {
   "cell_type": "code",
   "execution_count": 45,
   "id": "3265d450",
   "metadata": {},
   "outputs": [
    {
     "data": {
      "text/plain": [
       "28"
      ]
     },
     "execution_count": 45,
     "metadata": {},
     "output_type": "execute_result"
    }
   ],
   "source": [
    "df = (n1-1)+(n2-1)\n",
    "df"
   ]
  },
  {
   "cell_type": "code",
   "execution_count": 46,
   "id": "95868870",
   "metadata": {},
   "outputs": [
    {
     "data": {
      "text/plain": [
       "-0.5514408666689768"
      ]
     },
     "execution_count": 46,
     "metadata": {},
     "output_type": "execute_result"
    }
   ],
   "source": [
    "t = (x̄1-x̄2-0)/math.sqrt((σ1**2/n1)+(σ2**2/n2))\n",
    "t"
   ]
  },
  {
   "cell_type": "code",
   "execution_count": 47,
   "id": "bdcb5e76",
   "metadata": {},
   "outputs": [
    {
     "data": {
      "text/plain": [
       "1.833"
      ]
     },
     "execution_count": 47,
     "metadata": {},
     "output_type": "execute_result"
    }
   ],
   "source": [
    "Critical_value = stats.t.ppf(0.95, 28)\n",
    "round(tt, 3)"
   ]
  },
  {
   "cell_type": "code",
   "execution_count": null,
   "id": "43a9d193",
   "metadata": {},
   "outputs": [],
   "source": [
    "# conclusion: t-score dosen't belong to the critical region, so I can reject null hypothesis."
   ]
  }
 ],
 "metadata": {
  "kernelspec": {
   "display_name": "Python 3 (ipykernel)",
   "language": "python",
   "name": "python3"
  },
  "language_info": {
   "codemirror_mode": {
    "name": "ipython",
    "version": 3
   },
   "file_extension": ".py",
   "mimetype": "text/x-python",
   "name": "python",
   "nbconvert_exporter": "python",
   "pygments_lexer": "ipython3",
   "version": "3.9.7"
  }
 },
 "nbformat": 4,
 "nbformat_minor": 5
}
